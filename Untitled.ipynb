{
 "cells": [
  {
   "cell_type": "markdown",
   "metadata": {},
   "source": [
    "# Facebook Automation"
   ]
  },
  {
   "cell_type": "markdown",
   "metadata": {},
   "source": [
    "## Imports"
   ]
  },
  {
   "cell_type": "code",
   "execution_count": 516,
   "metadata": {},
   "outputs": [],
   "source": [
    "import requests\n",
    "import urllib\n",
    "import time\n",
    "from selenium import webdriver\n",
    "from webdriver_manager.chrome import ChromeDriverManager\n",
    "import facebook\n",
    "import pandas as pd"
   ]
  },
  {
   "cell_type": "markdown",
   "metadata": {},
   "source": [
    "## Login to get Access Token"
   ]
  },
  {
   "cell_type": "code",
   "execution_count": 457,
   "metadata": {},
   "outputs": [
    {
     "name": "stderr",
     "output_type": "stream",
     "text": [
      "[WDM] - Current google-chrome version is 84.0.4147\n",
      "INFO:WDM:Current google-chrome version is 84.0.4147\n",
      "[WDM] - Get LATEST driver version for 84.0.4147\n",
      "INFO:WDM:Get LATEST driver version for 84.0.4147\n",
      "[WDM] - Get LATEST driver version for 84.0.4147\n",
      "INFO:WDM:Get LATEST driver version for 84.0.4147\n",
      "[WDM] - Trying to download new driver from http://chromedriver.storage.googleapis.com/84.0.4147.30/chromedriver_win32.zip\n"
     ]
    },
    {
     "name": "stdout",
     "output_type": "stream",
     "text": [
      " \n"
     ]
    },
    {
     "name": "stderr",
     "output_type": "stream",
     "text": [
      "INFO:WDM:Trying to download new driver from http://chromedriver.storage.googleapis.com/84.0.4147.30/chromedriver_win32.zip\n",
      "[WDM] - Driver has been saved in cache [C:\\Users\\Aliff\\.wdm\\drivers\\chromedriver\\win32\\84.0.4147.30]\n",
      "INFO:WDM:Driver has been saved in cache [C:\\Users\\Aliff\\.wdm\\drivers\\chromedriver\\win32\\84.0.4147.30]\n"
     ]
    }
   ],
   "source": [
    "# Initiate driver to log in to facebook\n",
    "driver = webdriver.Chrome(ChromeDriverManager().install())"
   ]
  },
  {
   "cell_type": "code",
   "execution_count": 570,
   "metadata": {},
   "outputs": [],
   "source": [
    "df = pd.read_csv(\"login_details.csv\")"
   ]
  },
  {
   "cell_type": "code",
   "execution_count": 571,
   "metadata": {},
   "outputs": [
    {
     "data": {
      "text/plain": [
       "276745083548890"
      ]
     },
     "execution_count": 571,
     "metadata": {},
     "output_type": "execute_result"
    }
   ],
   "source": [
    "df.loc[0][2]"
   ]
  },
  {
   "cell_type": "markdown",
   "metadata": {},
   "source": [
    "### Login"
   ]
  },
  {
   "cell_type": "code",
   "execution_count": 572,
   "metadata": {},
   "outputs": [],
   "source": [
    "# Try to get the pass and email from another excel file\n",
    "email = df.loc[0][0]\n",
    "password = df.loc[0][1]\n",
    "client_id= df.loc[0][2]"
   ]
  },
  {
   "cell_type": "code",
   "execution_count": 573,
   "metadata": {},
   "outputs": [
    {
     "data": {
      "text/plain": [
       "('alfdnl080@gmail.com', 'qwer1234$', 276745083548890)"
      ]
     },
     "execution_count": 573,
     "metadata": {},
     "output_type": "execute_result"
    }
   ],
   "source": [
    "email,password,client_id"
   ]
  },
  {
   "cell_type": "code",
   "execution_count": 459,
   "metadata": {},
   "outputs": [],
   "source": [
    "def get_user_access_token(email,password,client_id):\n",
    "    # Initiate driver to log in to facebook\n",
    "    driver = webdriver.Chrome(ChromeDriverManager().install())\n",
    "    driver.get(f\"https://www.facebook.com/dialog/oauth?client_id={client_id}&redirect_uri=https://www.facebook.com/connect/login_success.html&response_type=token\")\n",
    "\n",
    "    driver.find_element_by_xpath('/html/body/div[1]/div[3]/div[1]/div/div/div[2]/div[1]/form/div/div[1]/input').send_keys(email)\n",
    "\n",
    "    driver.find_element_by_xpath(\"/html/body/div[1]/div[3]/div[1]/div/div/div[2]/div[1]/form/div/div[2]/input\").send_keys(password)\n",
    "\n",
    "    driver.find_element_by_xpath(\"/html/body/div[1]/div[3]/div[1]/div/div/div[2]/div[1]/form/div/div[3]/button\").click()\n",
    "\n",
    "    time.sleep(2)\n",
    "\n",
    "    acc_tok = driver.current_url\n",
    "\n",
    "    driver.close()\n",
    "    \n",
    "    access_token = urllib.parse.urlparse(acc_tok).fragment[13:-55]\n",
    "    return access_token"
   ]
  },
  {
   "cell_type": "code",
   "execution_count": 574,
   "metadata": {},
   "outputs": [
    {
     "name": "stderr",
     "output_type": "stream",
     "text": [
      "[WDM] - Current google-chrome version is 84.0.4147\n",
      "INFO:WDM:Current google-chrome version is 84.0.4147\n",
      "[WDM] - Get LATEST driver version for 84.0.4147\n",
      "INFO:WDM:Get LATEST driver version for 84.0.4147\n",
      "[WDM] - Driver [C:\\Users\\Aliff\\.wdm\\drivers\\chromedriver\\win32\\84.0.4147.30\\chromedriver.exe] found in cache\n",
      "INFO:WDM:Driver [C:\\Users\\Aliff\\.wdm\\drivers\\chromedriver\\win32\\84.0.4147.30\\chromedriver.exe] found in cache\n"
     ]
    },
    {
     "name": "stdout",
     "output_type": "stream",
     "text": [
      " \n"
     ]
    }
   ],
   "source": [
    "access_token = get_user_access_token(email,password,client_id)"
   ]
  },
  {
   "cell_type": "code",
   "execution_count": 309,
   "metadata": {},
   "outputs": [],
   "source": [
    "driver.get(\"https://www.facebook.com/dialog/oauth?client_id=276745083548890&redirect_uri=https://www.facebook.com/connect/login_success.html&response_type=token\")\n",
    "\n",
    "driver.find_element_by_xpath('/html/body/div[1]/div[3]/div[1]/div/div/div[2]/div[1]/form/div/div[1]/input').send_keys(email)\n",
    "\n",
    "driver.find_element_by_xpath(\"/html/body/div[1]/div[3]/div[1]/div/div/div[2]/div[1]/form/div/div[2]/input\").send_keys(password)\n",
    "\n",
    "driver.find_element_by_xpath(\"/html/body/div[1]/div[3]/div[1]/div/div/div[2]/div[1]/form/div/div[3]/button\").click()\n",
    "\n",
    "time.sleep(2)\n",
    "\n",
    "acc_tok = driver.current_url\n",
    "\n",
    "driver.close()"
   ]
  },
  {
   "cell_type": "markdown",
   "metadata": {},
   "source": [
    "### Parsing"
   ]
  },
  {
   "cell_type": "code",
   "execution_count": 316,
   "metadata": {},
   "outputs": [
    {
     "data": {
      "text/plain": [
       "'https://www.facebook.com/connect/login_success.html#access_token=EAAD7srxl9NoBAMPgqp3Fv4fMIfpgBhxAmjUxZAQI0NNlabrE2bq7eJunWycpleZBfdCjnL3WAcSYKjZAv7pPnsN4yhYYDU5ZBJZCkqZCcNHoykQYWdmmZB5ETmlZB0sMo6BokwBOlO0Au6WsxJWMDZAJBSUnXt1nPaVRyhxOelhhZCIZBCGsfSoaFBJfYIQB6nW73wZD&data_access_expiration_time=1603076766&expires_in=6834'"
      ]
     },
     "execution_count": 316,
     "metadata": {},
     "output_type": "execute_result"
    }
   ],
   "source": [
    "acc_tok"
   ]
  },
  {
   "cell_type": "code",
   "execution_count": 317,
   "metadata": {},
   "outputs": [],
   "source": [
    "access_token = urllib.parse.urlparse(acc_tok).fragment[13:-55]"
   ]
  },
  {
   "cell_type": "code",
   "execution_count": 318,
   "metadata": {},
   "outputs": [
    {
     "data": {
      "text/plain": [
       "'EAAD7srxl9NoBAMPgqp3Fv4fMIfpgBhxAmjUxZAQI0NNlabrE2bq7eJunWycpleZBfdCjnL3WAcSYKjZAv7pPnsN4yhYYDU5ZBJZCkqZCcNHoykQYWdmmZB5ETmlZB0sMo6BokwBOlO0Au6WsxJWMDZAJBSUnXt1nPaVRyhxOelhhZCIZBCGsfSoaFBJfYIQB6nW73wZD'"
      ]
     },
     "execution_count": 318,
     "metadata": {},
     "output_type": "execute_result"
    }
   ],
   "source": [
    "access_token"
   ]
  },
  {
   "cell_type": "markdown",
   "metadata": {},
   "source": [
    "## Initiate Graph API"
   ]
  },
  {
   "cell_type": "code",
   "execution_count": 616,
   "metadata": {},
   "outputs": [],
   "source": [
    " graph = facebook.GraphAPI(access_token)"
   ]
  },
  {
   "cell_type": "code",
   "execution_count": 617,
   "metadata": {},
   "outputs": [
    {
     "ename": "GraphAPIError",
     "evalue": "Error validating access token: Session has expired on Wednesday, 22-Jul-20 04:00:00 PDT. The current time is Thursday, 23-Jul-20 19:00:56 PDT.",
     "output_type": "error",
     "traceback": [
      "\u001b[1;31m---------------------------------------------------------------------------\u001b[0m",
      "\u001b[1;31mGraphAPIError\u001b[0m                             Traceback (most recent call last)",
      "\u001b[1;32m<ipython-input-617-79f57898a9dc>\u001b[0m in \u001b[0;36m<module>\u001b[1;34m\u001b[0m\n\u001b[1;32m----> 1\u001b[1;33m \u001b[0mlistacc\u001b[0m \u001b[1;33m=\u001b[0m \u001b[0mgraph\u001b[0m\u001b[1;33m.\u001b[0m\u001b[0mget_object\u001b[0m\u001b[1;33m(\u001b[0m\u001b[1;34m'me/accounts'\u001b[0m\u001b[1;33m)\u001b[0m\u001b[1;33m\u001b[0m\u001b[1;33m\u001b[0m\u001b[0m\n\u001b[0m",
      "\u001b[1;32mc:\\users\\aliff\\appdata\\local\\programs\\python\\python37\\lib\\site-packages\\facebook\\__init__.py\u001b[0m in \u001b[0;36mget_object\u001b[1;34m(self, id, **args)\u001b[0m\n\u001b[0;32m    124\u001b[0m     \u001b[1;32mdef\u001b[0m \u001b[0mget_object\u001b[0m\u001b[1;33m(\u001b[0m\u001b[0mself\u001b[0m\u001b[1;33m,\u001b[0m \u001b[0mid\u001b[0m\u001b[1;33m,\u001b[0m \u001b[1;33m**\u001b[0m\u001b[0margs\u001b[0m\u001b[1;33m)\u001b[0m\u001b[1;33m:\u001b[0m\u001b[1;33m\u001b[0m\u001b[1;33m\u001b[0m\u001b[0m\n\u001b[0;32m    125\u001b[0m         \u001b[1;34m\"\"\"Fetches the given object from the graph.\"\"\"\u001b[0m\u001b[1;33m\u001b[0m\u001b[1;33m\u001b[0m\u001b[0m\n\u001b[1;32m--> 126\u001b[1;33m         \u001b[1;32mreturn\u001b[0m \u001b[0mself\u001b[0m\u001b[1;33m.\u001b[0m\u001b[0mrequest\u001b[0m\u001b[1;33m(\u001b[0m\u001b[1;34m\"{0}/{1}\"\u001b[0m\u001b[1;33m.\u001b[0m\u001b[0mformat\u001b[0m\u001b[1;33m(\u001b[0m\u001b[0mself\u001b[0m\u001b[1;33m.\u001b[0m\u001b[0mversion\u001b[0m\u001b[1;33m,\u001b[0m \u001b[0mid\u001b[0m\u001b[1;33m)\u001b[0m\u001b[1;33m,\u001b[0m \u001b[0margs\u001b[0m\u001b[1;33m)\u001b[0m\u001b[1;33m\u001b[0m\u001b[1;33m\u001b[0m\u001b[0m\n\u001b[0m\u001b[0;32m    127\u001b[0m \u001b[1;33m\u001b[0m\u001b[0m\n\u001b[0;32m    128\u001b[0m     \u001b[1;32mdef\u001b[0m \u001b[0mget_objects\u001b[0m\u001b[1;33m(\u001b[0m\u001b[0mself\u001b[0m\u001b[1;33m,\u001b[0m \u001b[0mids\u001b[0m\u001b[1;33m,\u001b[0m \u001b[1;33m**\u001b[0m\u001b[0margs\u001b[0m\u001b[1;33m)\u001b[0m\u001b[1;33m:\u001b[0m\u001b[1;33m\u001b[0m\u001b[1;33m\u001b[0m\u001b[0m\n",
      "\u001b[1;32mc:\\users\\aliff\\appdata\\local\\programs\\python\\python37\\lib\\site-packages\\facebook\\__init__.py\u001b[0m in \u001b[0;36mrequest\u001b[1;34m(self, path, args, post_args, files, method)\u001b[0m\n\u001b[0;32m    311\u001b[0m \u001b[1;33m\u001b[0m\u001b[0m\n\u001b[0;32m    312\u001b[0m         \u001b[1;32mif\u001b[0m \u001b[0mresult\u001b[0m \u001b[1;32mand\u001b[0m \u001b[0misinstance\u001b[0m\u001b[1;33m(\u001b[0m\u001b[0mresult\u001b[0m\u001b[1;33m,\u001b[0m \u001b[0mdict\u001b[0m\u001b[1;33m)\u001b[0m \u001b[1;32mand\u001b[0m \u001b[0mresult\u001b[0m\u001b[1;33m.\u001b[0m\u001b[0mget\u001b[0m\u001b[1;33m(\u001b[0m\u001b[1;34m\"error\"\u001b[0m\u001b[1;33m)\u001b[0m\u001b[1;33m:\u001b[0m\u001b[1;33m\u001b[0m\u001b[1;33m\u001b[0m\u001b[0m\n\u001b[1;32m--> 313\u001b[1;33m             \u001b[1;32mraise\u001b[0m \u001b[0mGraphAPIError\u001b[0m\u001b[1;33m(\u001b[0m\u001b[0mresult\u001b[0m\u001b[1;33m)\u001b[0m\u001b[1;33m\u001b[0m\u001b[1;33m\u001b[0m\u001b[0m\n\u001b[0m\u001b[0;32m    314\u001b[0m         \u001b[1;32mreturn\u001b[0m \u001b[0mresult\u001b[0m\u001b[1;33m\u001b[0m\u001b[1;33m\u001b[0m\u001b[0m\n\u001b[0;32m    315\u001b[0m \u001b[1;33m\u001b[0m\u001b[0m\n",
      "\u001b[1;31mGraphAPIError\u001b[0m: Error validating access token: Session has expired on Wednesday, 22-Jul-20 04:00:00 PDT. The current time is Thursday, 23-Jul-20 19:00:56 PDT."
     ]
    }
   ],
   "source": [
    "listacc = graph.get_object('me/accounts')"
   ]
  },
  {
   "cell_type": "markdown",
   "metadata": {},
   "source": [
    "## Getting the desired page ID"
   ]
  },
  {
   "cell_type": "code",
   "execution_count": 321,
   "metadata": {},
   "outputs": [
    {
     "data": {
      "text/plain": [
       "{'data': [{'permission': 'user_photos', 'status': 'granted'},\n",
       "  {'permission': 'user_posts', 'status': 'granted'},\n",
       "  {'permission': 'publish_video', 'status': 'granted'},\n",
       "  {'permission': 'pages_show_list', 'status': 'granted'},\n",
       "  {'permission': 'pages_messaging', 'status': 'granted'},\n",
       "  {'permission': 'publish_to_groups', 'status': 'granted'},\n",
       "  {'permission': 'pages_read_engagement', 'status': 'granted'},\n",
       "  {'permission': 'pages_read_user_content', 'status': 'granted'},\n",
       "  {'permission': 'pages_manage_posts', 'status': 'granted'},\n",
       "  {'permission': 'pages_manage_engagement', 'status': 'granted'},\n",
       "  {'permission': 'public_profile', 'status': 'granted'}]}"
      ]
     },
     "execution_count": 321,
     "metadata": {},
     "output_type": "execute_result"
    }
   ],
   "source": [
    "graph.get_object('me/permissions')"
   ]
  },
  {
   "cell_type": "code",
   "execution_count": 539,
   "metadata": {},
   "outputs": [],
   "source": [
    "page_name= 'Testdulud'"
   ]
  },
  {
   "cell_type": "markdown",
   "metadata": {},
   "source": [
    "## Get Page Access Token"
   ]
  },
  {
   "cell_type": "code",
   "execution_count": 563,
   "metadata": {},
   "outputs": [],
   "source": [
    "def get_page_access_token(user_acc_token,page_name):\n",
    "    \n",
    "    # Initiate Graph Api\n",
    "    graph = facebook.GraphAPI(user_acc_token)\n",
    "    \n",
    "    # Get the list of available accounts\n",
    "    listacc = graph.get_object('me/accounts')\n",
    "    \n",
    "    for i in listacc['data']:\n",
    "#         print(i)\n",
    "#         print(i['name']==page_name)\n",
    "        if i['name']==page_name:\n",
    "            page_access_token = i['access_token']\n",
    "            page_id = i['id']\n",
    "    return page_access_token,page_id\n",
    "        "
   ]
  },
  {
   "cell_type": "code",
   "execution_count": 575,
   "metadata": {},
   "outputs": [],
   "source": [
    "page_access_token,page_id = get_page_access_token(access_token,page_name)"
   ]
  },
  {
   "cell_type": "code",
   "execution_count": 323,
   "metadata": {},
   "outputs": [
    {
     "name": "stdout",
     "output_type": "stream",
     "text": [
      "{'access_token': 'EAAD7srxl9NoBAORuJLmkPZC7mVGptJPOThEVPIxa0ZCso9fOvPcvsmFHDFFAgEuR6eJ8ckAyd8e2ilCDKnQGCOEcKQSZAwmz2QvgznjBKTNCuXNnlM9GghQQ4lZAhLjqLU0entUQf7c74BgbOoWoVL7CSKf4necnxLZB3VzJ1GoUoH9PCIO7cAnVBZBjcQsOlkBRslgYuZAzgZDZD', 'category': 'Automation Service', 'category_list': [{'id': '153535891368765', 'name': 'Automation Service'}], 'name': 'Test2', 'id': '102650118203913', 'tasks': ['ANALYZE', 'ADVERTISE', 'MODERATE', 'CREATE_CONTENT', 'MANAGE']}\n",
      "False\n",
      "{'access_token': 'EAAD7srxl9NoBAMpsTLZBfrHR779ZAZCQH01ACAiIKNvy1w3xr2x09Hy6wJxy902x4N55xBMouBsqZCzwpe5J9kTOMRAreqgP8Wj8dYzQRb2o4cIvs5d6teD7ejpk9GiA0UcQp3BLWREUXR31EhszLceYVrZBpd9mxa31x6z85EFp4ruslx3GnHkyt3jdoSOQN6ZBiOcxUZATAZDZD', 'category': 'Test Preparation Center', 'category_list': [{'id': '191914921205687', 'name': 'Test Preparation Center'}], 'name': 'Testdulud', 'id': '111761433948184', 'tasks': ['ANALYZE', 'ADVERTISE', 'MODERATE', 'CREATE_CONTENT', 'MANAGE']}\n",
      "True\n"
     ]
    }
   ],
   "source": [
    "for i in listacc['data']:\n",
    "    print(i)\n",
    "    print(i['id']==page_id)\n",
    "    if i['id']==page_id:\n",
    "        page_access_token = i['access_token']"
   ]
  },
  {
   "cell_type": "code",
   "execution_count": 381,
   "metadata": {},
   "outputs": [
    {
     "data": {
      "text/plain": [
       "'EAAD7srxl9NoBAP2LdhbTMdwUbKxp0jiorTNWQiz0XwKx2Nh4krk84stVdZAiZA4PDUZA0vDw1cx96VhGseZBZBfgvMQsANMFkSQqZAfZBDDU4ZBAjzef6dCslLmBGEcvDvMIQAyZAZAZAiEvoXaZBBZAaK0UC1fsXJxooQnTRbUkYyFlsWd16zDo3T5fiCYiWyu6dmZALviZCDiXKEmVwZDZD'"
      ]
     },
     "execution_count": 381,
     "metadata": {},
     "output_type": "execute_result"
    }
   ],
   "source": [
    "page_access_token"
   ]
  },
  {
   "cell_type": "markdown",
   "metadata": {},
   "source": [
    "## Post Status to page"
   ]
  },
  {
   "cell_type": "code",
   "execution_count": 325,
   "metadata": {},
   "outputs": [],
   "source": [
    "page_poster = facebook.GraphAPI(access_token=page_access_token)"
   ]
  },
  {
   "cell_type": "markdown",
   "metadata": {},
   "source": [
    "### Get TimeStamp"
   ]
  },
  {
   "cell_type": "code",
   "execution_count": 584,
   "metadata": {},
   "outputs": [
    {
     "name": "stdout",
     "output_type": "stream",
     "text": [
      "1595410500\n"
     ]
    }
   ],
   "source": [
    "import datetime\n",
    "date_string = \"2020/07/22 17:35:00\"\n",
    "date = datetime.datetime.strptime(date_string, \"%Y/%m/%d %H:%M:%S\")\n",
    "timestamp = datetime.datetime.timestamp(date)\n",
    "print(str(int(timestamp)))\n",
    "timestamp = str(int(timestamp))"
   ]
  },
  {
   "cell_type": "markdown",
   "metadata": {},
   "source": [
    "### Clean Message"
   ]
  },
  {
   "cell_type": "code",
   "execution_count": 432,
   "metadata": {},
   "outputs": [],
   "source": [
    "# Tambah preprocessing dlm pandas untuk replace semua yang kosong kepada none"
   ]
  },
  {
   "cell_type": "code",
   "execution_count": 585,
   "metadata": {},
   "outputs": [],
   "source": [
    "def date_to_timestamp(date_string):\n",
    "    '''\n",
    "    Convert date string to time stamp\n",
    "    '''\n",
    "    date = datetime.datetime.strptime(date_string, \"%Y/%m/%d %H:%M:%S\")\n",
    "    timestamp = datetime.datetime.timestamp(date)\n",
    "#     print(str(int(timestamp)))\n",
    "    return str(int(timestamp))"
   ]
  },
  {
   "cell_type": "code",
   "execution_count": 513,
   "metadata": {},
   "outputs": [],
   "source": [
    "def clean_message(msg):\n",
    "    '''\n",
    "    Receive message and convert hash sign into %23\n",
    "    '''\n",
    "    return msg.replace('#','%23')"
   ]
  },
  {
   "cell_type": "code",
   "execution_count": 614,
   "metadata": {},
   "outputs": [],
   "source": [
    "def post_to_wall(page_id=None,message=None,page_access_token=None,\n",
    "                 timestamp=None,link=None, VID_PATH=None, IMG_PATH=None, VID_TITLE=None):\n",
    "    \n",
    "    print(link)\n",
    "    publish=None\n",
    "    \n",
    "    if timestamp is not None:\n",
    "        publish='false'\n",
    "        timestamp = date_to_timestamp(timestamp)\n",
    "    \n",
    "    if VID_PATH is not None:\n",
    "        print(\"Video Post\")\n",
    "        print(\"Dalam post-to_wall\"+VID_TITLE)\n",
    "        if link is None:\n",
    "            link = ''\n",
    "        \n",
    "        data = {\n",
    "        'title': VID_TITLE,\n",
    "        'description': clean_message(message) + \"\\n\\n\" + link,\n",
    "        'access_token': page_access_token,\n",
    "        'published': publish,\n",
    "        'scheduled_publish_time':timestamp,    \n",
    "        }\n",
    "        \n",
    "        files = {\n",
    "            'file': open(VID_PATH, 'rb')\n",
    "        }\n",
    "        \n",
    "        x = requests.post(f'https://graph.facebook.com/{page_id}/videos',data=data, files=files)\n",
    "        return x.text\n",
    "    \n",
    "    elif IMG_PATH is not None:\n",
    "        print(\"Image Post\")\n",
    "        if link is None:\n",
    "            link =''\n",
    "        \n",
    "        data = {\n",
    "        'message': clean_message(message) + '\\n' + link,\n",
    "        'access_token': page_access_token,\n",
    "        'published': publish,\n",
    "        'scheduled_publish_time':timestamp,\n",
    "        }\n",
    "        \n",
    "        files = {\n",
    "            'file': open(IMG_PATH, 'rb')\n",
    "        }\n",
    "        \n",
    "        x = requests.post(f'https://graph.facebook.com/{page_id}/photos', data=data, files=files)\n",
    "        return x.text\n",
    "    \n",
    "    else:\n",
    "        print(\"Normal Post\")\n",
    "        print(link)\n",
    "        data={\n",
    "        'message': clean_message(message),\n",
    "        'access_token':page_access_token,\n",
    "        'published': publish,\n",
    "        'scheduled_publish_time':timestamp,\n",
    "        'link':link\n",
    "        }\n",
    "\n",
    "        url=f\"https://graph.facebook.com/{page_id}/feed\"\n",
    "\n",
    "        x = requests.post(url,data=data)\n",
    "        return x.text"
   ]
  },
  {
   "cell_type": "code",
   "execution_count": 425,
   "metadata": {},
   "outputs": [],
   "source": [
    "message='''test2\n",
    "'''"
   ]
  },
  {
   "cell_type": "code",
   "execution_count": 354,
   "metadata": {
    "scrolled": true
   },
   "outputs": [
    {
     "data": {
      "text/plain": [
       "{'id': '111761433948184_116800793444248'}"
      ]
     },
     "execution_count": 354,
     "metadata": {},
     "output_type": "execute_result"
    }
   ],
   "source": [
    "page_poster.put_object(page_id, \"feed\", message='''posdt\n",
    "sada \n",
    "asdas\n",
    "https://www.w3schools.com/tags/ref_urlencode.ASP''')"
   ]
  },
  {
   "cell_type": "code",
   "execution_count": 422,
   "metadata": {},
   "outputs": [],
   "source": [
    "publish=None\n",
    "timestamp=None\n",
    "link=None"
   ]
  },
  {
   "cell_type": "markdown",
   "metadata": {},
   "source": [
    "### POST status to wall"
   ]
  },
  {
   "cell_type": "code",
   "execution_count": 576,
   "metadata": {},
   "outputs": [
    {
     "data": {
      "text/plain": [
       "'{\"id\":\"111761433948184_117628726694788\"}'"
      ]
     },
     "execution_count": 576,
     "metadata": {},
     "output_type": "execute_result"
    }
   ],
   "source": [
    "post_to_wall(page_id,'test lain' ,page_access_token,None,'https://www.w3schools.com/tags/ref_urlencode.ASP')"
   ]
  },
  {
   "cell_type": "markdown",
   "metadata": {},
   "source": [
    "### POST image to wall"
   ]
  },
  {
   "cell_type": "code",
   "execution_count": 515,
   "metadata": {},
   "outputs": [
    {
     "name": "stdout",
     "output_type": "stream",
     "text": [
      "1595410500\n"
     ]
    },
    {
     "data": {
      "text/plain": [
       "'{\"id\":\"117548796702781\"}'"
      ]
     },
     "execution_count": 515,
     "metadata": {},
     "output_type": "execute_result"
    }
   ],
   "source": [
    "post_to_wall(page_id=page_id, message='test wakak',timestamp=date_string, page_access_token=page_access_token, IMG_PATH = 'test.jpg')"
   ]
  },
  {
   "cell_type": "markdown",
   "metadata": {},
   "source": [
    "### POST VIDEO to wall"
   ]
  },
  {
   "cell_type": "code",
   "execution_count": 502,
   "metadata": {},
   "outputs": [
    {
     "data": {
      "text/plain": [
       "'{\"id\":\"273928407241188\"}'"
      ]
     },
     "execution_count": 502,
     "metadata": {},
     "output_type": "execute_result"
    }
   ],
   "source": [
    "post_to_wall(page_id=page_id, message='test wakak', page_access_token=page_access_token, VID_PATH = 'test.mp4', VID_TITLE = 'WAkluuh')"
   ]
  },
  {
   "cell_type": "markdown",
   "metadata": {},
   "source": [
    "## READ data from CSV"
   ]
  },
  {
   "cell_type": "code",
   "execution_count": 600,
   "metadata": {},
   "outputs": [],
   "source": [
    "post_df= pd.read_csv(\"Post_templates.csv\").fillna(value= '')"
   ]
  },
  {
   "cell_type": "code",
   "execution_count": 604,
   "metadata": {},
   "outputs": [
    {
     "data": {
      "text/html": [
       "<div>\n",
       "<style scoped>\n",
       "    .dataframe tbody tr th:only-of-type {\n",
       "        vertical-align: middle;\n",
       "    }\n",
       "\n",
       "    .dataframe tbody tr th {\n",
       "        vertical-align: top;\n",
       "    }\n",
       "\n",
       "    .dataframe thead th {\n",
       "        text-align: right;\n",
       "    }\n",
       "</style>\n",
       "<table border=\"1\" class=\"dataframe\">\n",
       "  <thead>\n",
       "    <tr style=\"text-align: right;\">\n",
       "      <th></th>\n",
       "      <th>page_name</th>\n",
       "      <th>message/description/caption</th>\n",
       "      <th>link</th>\n",
       "      <th>img _path</th>\n",
       "      <th>vid_path</th>\n",
       "      <th>vid_title</th>\n",
       "      <th>Date &amp; Time</th>\n",
       "    </tr>\n",
       "  </thead>\n",
       "  <tbody>\n",
       "    <tr>\n",
       "      <th>0</th>\n",
       "      <td>Testdulud</td>\n",
       "      <td>adas d\\nsdasd\\nadas</td>\n",
       "      <td>https://www.youtube.com/watch?v=8UtfZn9JJq0</td>\n",
       "      <td></td>\n",
       "      <td></td>\n",
       "      <td></td>\n",
       "      <td>2020/07/22 19:35:10</td>\n",
       "    </tr>\n",
       "    <tr>\n",
       "      <th>1</th>\n",
       "      <td>Testdulud</td>\n",
       "      <td>adas ddsad\\nsdasd\\nadas</td>\n",
       "      <td></td>\n",
       "      <td>test.jpg</td>\n",
       "      <td></td>\n",
       "      <td></td>\n",
       "      <td>2020/07/22 19:35:10</td>\n",
       "    </tr>\n",
       "    <tr>\n",
       "      <th>2</th>\n",
       "      <td>Testdulud</td>\n",
       "      <td>asdsadsad</td>\n",
       "      <td></td>\n",
       "      <td></td>\n",
       "      <td>test.mp4</td>\n",
       "      <td>Test Yang Padu</td>\n",
       "      <td>2020/07/22 19:35:10</td>\n",
       "    </tr>\n",
       "    <tr>\n",
       "      <th>3</th>\n",
       "      <td>Testdulud</td>\n",
       "      <td>adas d\\nsdasdasdsad\\nadas</td>\n",
       "      <td></td>\n",
       "      <td></td>\n",
       "      <td></td>\n",
       "      <td></td>\n",
       "      <td>2020/07/22 19:35:10</td>\n",
       "    </tr>\n",
       "    <tr>\n",
       "      <th>4</th>\n",
       "      <td>Testdulud</td>\n",
       "      <td>adas d\\nsdasdsadsad\\nadas</td>\n",
       "      <td></td>\n",
       "      <td></td>\n",
       "      <td></td>\n",
       "      <td></td>\n",
       "      <td>2020/07/22 19:35:10</td>\n",
       "    </tr>\n",
       "  </tbody>\n",
       "</table>\n",
       "</div>"
      ],
      "text/plain": [
       "   page_name message/description/caption  \\\n",
       "0  Testdulud         adas d\\nsdasd\\nadas   \n",
       "1  Testdulud     adas ddsad\\nsdasd\\nadas   \n",
       "2  Testdulud                   asdsadsad   \n",
       "3  Testdulud   adas d\\nsdasdasdsad\\nadas   \n",
       "4  Testdulud   adas d\\nsdasdsadsad\\nadas   \n",
       "\n",
       "                                           link img _path  vid_path  \\\n",
       "0   https://www.youtube.com/watch?v=8UtfZn9JJq0                       \n",
       "1                                                test.jpg             \n",
       "2                                                          test.mp4   \n",
       "3                                                                     \n",
       "4                                                                     \n",
       "\n",
       "        vid_title          Date & Time  \n",
       "0                  2020/07/22 19:35:10  \n",
       "1                  2020/07/22 19:35:10  \n",
       "2  Test Yang Padu  2020/07/22 19:35:10  \n",
       "3                  2020/07/22 19:35:10  \n",
       "4                  2020/07/22 19:35:10  "
      ]
     },
     "execution_count": 604,
     "metadata": {},
     "output_type": "execute_result"
    }
   ],
   "source": [
    "post_df"
   ]
  },
  {
   "cell_type": "code",
   "execution_count": 595,
   "metadata": {},
   "outputs": [],
   "source": [
    "test = post_df.loc[0][-1]"
   ]
  },
  {
   "cell_type": "code",
   "execution_count": 596,
   "metadata": {},
   "outputs": [
    {
     "data": {
      "text/plain": [
       "'1595414110'"
      ]
     },
     "execution_count": 596,
     "metadata": {},
     "output_type": "execute_result"
    }
   ],
   "source": [
    "date_to_timestamp(test)"
   ]
  },
  {
   "cell_type": "code",
   "execution_count": 597,
   "metadata": {},
   "outputs": [
    {
     "data": {
      "text/plain": [
       "''"
      ]
     },
     "execution_count": 597,
     "metadata": {},
     "output_type": "execute_result"
    }
   ],
   "source": [
    "' '.strip()"
   ]
  },
  {
   "cell_type": "code",
   "execution_count": 611,
   "metadata": {},
   "outputs": [
    {
     "name": "stdout",
     "output_type": "stream",
     "text": [
      " https://www.youtube.com/watch?v=8UtfZn9JJq0\n",
      "\n",
      "\n",
      "\n",
      "\n"
     ]
    }
   ],
   "source": [
    "for index, row in post_df.iterrows():\n",
    "    print(row[2])"
   ]
  },
  {
   "cell_type": "code",
   "execution_count": 615,
   "metadata": {},
   "outputs": [
    {
     "name": "stdout",
     "output_type": "stream",
     "text": [
      "\n",
      "0 <class 'str'>\n",
      "\n",
      "EAAD7srxl9NoBAMxXzdpIzwz6S4CkuFzQmBOfWoWEcVcy3uhejO6RAb0ZAG0giBjmrEAsT5MJ5c49uGh2sR4yUdGj7WA1nPCZBp7KOEiFAH3za2Hr2CegqrDQVvgZC0B0PZBEZAfkbU0M41ZCXd6maOsjQMWQ6741EcglsZCdQrLKeq4OAMp5Tmspn1xOVvem6ZCORGjDND21ZAgZDZD 111761433948184\n",
      " https://www.youtube.com/watch?v=8UtfZn9JJq0\n",
      " https://www.youtube.com/watch?v=8UtfZn9JJq0\n",
      "Normal Post\n",
      " https://www.youtube.com/watch?v=8UtfZn9JJq0\n",
      "{\"id\":\"111761433948184_117637723360555\"}\n",
      "\n",
      "masuk\n",
      "1 <class 'str'>\n",
      "\n",
      "EAAD7srxl9NoBAJq7m9yQddpZBucZCdqMFAMVupt4fSV0OOnngRg7yZCpWJe7xl0U5Wm9glRkzQO3SP56Bjk6MNvb33FE4F791kEHZBkWx58S4DOcr2ZAKPg5Mp6NP6lOhs7NH7Dn25jLzSJUjHFAWPLUuXrXtnZArAw5tK3izpWwklJAtrEWeJOq85tSvXAQSUGFhB0tclfgZDZD 111761433948184\n",
      "None\n",
      "None\n",
      "Image Post\n",
      "{\"id\":\"117637840027210\"}\n",
      "\n",
      "masuk\n",
      "2 <class 'str'>\n",
      "Test Yang Padu\n",
      "EAAD7srxl9NoBACTU4wcjfee69ti1P9YWyjioFwfm7eniZBW2gluyoQZCg8zlg25ZAnSHqlqGIqis5c5vZBkPv3oJ47tSa22BRk1QiPCex56hsuCCOBZAUxv2gQKDboriKZCeMZCkKZA85Ma5DFC8CDhsjqhT27gfY1eVP0Fr0n5FtlZCl6hH84rU9Ha627rANtwpzKLSVf9ZB8IQZDZD 111761433948184\n",
      "None\n",
      "None\n",
      "Video Post\n",
      "Dalam post-to_wallTest Yang Padu\n",
      "{\"id\":\"1501490936719597\"}\n",
      "\n",
      "masuk\n",
      "3 <class 'str'>\n",
      "\n",
      "EAAD7srxl9NoBAMJv2MhaUt2prQ9lMibbpZBLah9g2Sv8tcHzEFbj2h0TYWcr3QHHCiNCOZAVAmNQvxapNsqZCuqVSqhP305pGPhKDZBh6wiZB5cpIbzBtcU1QYDCbn2aoe03dMttWYJbOrHEu2WBrCYdzH0R9Dvr4mBRbSJPMzpvZAl75LUnRrZB84qNczOFirZA4TXCTQkMZAQZDZD 111761433948184\n",
      "None\n",
      "None\n",
      "Normal Post\n",
      "None\n",
      "{\"id\":\"111761433948184_117637996693861\"}\n",
      "\n",
      "masuk\n",
      "4 <class 'str'>\n",
      "\n",
      "EAAD7srxl9NoBAHTRDhGxWAR0bYZAz3dAZBIIb8wCeKABakVR6PUzN6ujssNZCkZCnYcZAQ1EgOikPpJvFEOGVCsSk83UqPHHTixuHntnDM5ytTPCPCWm5aEkWaYotNBj074lZA5mvAd51T8rwOgg7XLAJfZC6jZAd2nrqexHYnGgTeinMKA6YMWm15V3YjkPUvZBb7lf5bnQnqgZDZD 111761433948184\n",
      "None\n",
      "None\n",
      "Normal Post\n",
      "None\n",
      "{\"id\":\"111761433948184_117638003360527\"}\n"
     ]
    }
   ],
   "source": [
    "for index, row in post_df.iterrows():\n",
    "    print()\n",
    "    if row[2].strip() == '':\n",
    "        print(\"masuk\")\n",
    "        link = None\n",
    "    else:\n",
    "        link = row[2]\n",
    "    if row[3].strip() == '':\n",
    "        IMG_PATH = None\n",
    "    else:\n",
    "        IMG_PATH = row[3]\n",
    "    if row[4].strip() == '':\n",
    "        VID_PATH = None\n",
    "    else:\n",
    "        VID_PATH = row[4]\n",
    "    if row[5].strip() == '':\n",
    "        VID_TITLE = None\n",
    "    else:\n",
    "        VID_TITLE = row[5]\n",
    "    \n",
    "    print(index,type(row[-1]))\n",
    "    print(row[5])\n",
    "    page_access_token,page_id = get_page_access_token(access_token,row[0])\n",
    "    print(page_access_token,page_id)\n",
    "    \n",
    "#     timestamp = date_to_timestamp(row[-1])\n",
    "#     print(timestamp)\n",
    "    print(link)\n",
    "    print(post_to_wall(page_id,row[1],page_access_token,row[-1],link,VID_PATH,IMG_PATH,VID_TITLE))"
   ]
  },
  {
   "cell_type": "code",
   "execution_count": 426,
   "metadata": {},
   "outputs": [],
   "source": [
    "data={\n",
    "    'message': message,\n",
    "    'access_token':page_access_token,\n",
    "    'published': publish,\n",
    "    'scheduled_publish_time':timestamp,\n",
    "    'link':link\n",
    "}"
   ]
  },
  {
   "cell_type": "code",
   "execution_count": 427,
   "metadata": {},
   "outputs": [
    {
     "data": {
      "text/plain": [
       "'{\"id\":\"111761433948184_116818776775783\"}'"
      ]
     },
     "execution_count": 427,
     "metadata": {},
     "output_type": "execute_result"
    }
   ],
   "source": [
    "url=f\"https://graph.facebook.com/{page_id}/feed\"\n",
    "\n",
    "x = requests.post(url,data=data)\n",
    "x.text"
   ]
  },
  {
   "cell_type": "code",
   "execution_count": 468,
   "metadata": {},
   "outputs": [],
   "source": [
    "publish='false'\n",
    "timestamp=timestamp\n",
    "link='https://www.w3schools.com/tags/ref_urlencode.ASP'"
   ]
  },
  {
   "cell_type": "code",
   "execution_count": 430,
   "metadata": {},
   "outputs": [],
   "source": [
    "data={\n",
    "    'message': message,\n",
    "    'access_token':page_access_token,\n",
    "    'published': publish,\n",
    "    'scheduled_publish_time':timestamp,\n",
    "    'link':link\n",
    "}"
   ]
  },
  {
   "cell_type": "code",
   "execution_count": 431,
   "metadata": {},
   "outputs": [
    {
     "data": {
      "text/plain": [
       "'{\"id\":\"111761433948184_116819050109089\"}'"
      ]
     },
     "execution_count": 431,
     "metadata": {},
     "output_type": "execute_result"
    }
   ],
   "source": [
    "url=f\"https://graph.facebook.com/{page_id}/feed\"\n",
    "\n",
    "x = requests.post(url,data=data)\n",
    "x.text"
   ]
  },
  {
   "cell_type": "code",
   "execution_count": 390,
   "metadata": {},
   "outputs": [
    {
     "data": {
      "text/plain": [
       "'{\"id\":\"111761433948184_116816263442701\"}'"
      ]
     },
     "execution_count": 390,
     "metadata": {},
     "output_type": "execute_result"
    }
   ],
   "source": [
    "url='''https://graph.facebook.com/{}/feed?published=false&message={}&scheduled_publish_time={}&access_token={}'''.format(page_id,clean_message(message),time,page_access_token)\n",
    "x = requests.post(url)\n",
    "x.text"
   ]
  },
  {
   "cell_type": "markdown",
   "metadata": {},
   "source": [
    "## Post Photo to page"
   ]
  },
  {
   "cell_type": "code",
   "execution_count": 341,
   "metadata": {},
   "outputs": [],
   "source": [
    "IMG_PATH = \"test.jpg\""
   ]
  },
  {
   "cell_type": "code",
   "execution_count": 465,
   "metadata": {},
   "outputs": [],
   "source": [
    "caption = \"test\""
   ]
  },
  {
   "cell_type": "code",
   "execution_count": 480,
   "metadata": {},
   "outputs": [
    {
     "name": "stdout",
     "output_type": "stream",
     "text": [
      "test\n",
      "https://www.w3schools.com/tags/ref_urlencode.ASP\n"
     ]
    }
   ],
   "source": [
    " print(caption + \"\\n\" +link)"
   ]
  },
  {
   "cell_type": "code",
   "execution_count": 490,
   "metadata": {},
   "outputs": [],
   "source": [
    "data = {\n",
    "    'message': caption + '\\n' +link,\n",
    "    'access_token': page_access_token,\n",
    "    'published': publish,\n",
    "    'scheduled_publish_time':timestamp,\n",
    "    \n",
    "    \n",
    "}\n",
    "files = {\n",
    "    'file': open(IMG_PATH, 'rb')\n",
    "}"
   ]
  },
  {
   "cell_type": "code",
   "execution_count": 491,
   "metadata": {},
   "outputs": [],
   "source": [
    "status = requests.post(\n",
    "    f'https://graph.facebook.com/{page_id}/photos',\n",
    "     data=data, files=files)"
   ]
  },
  {
   "cell_type": "markdown",
   "metadata": {},
   "source": [
    "## Post Video to page"
   ]
  },
  {
   "cell_type": "code",
   "execution_count": 360,
   "metadata": {},
   "outputs": [],
   "source": [
    "VID_PATH = \"test.mp4\""
   ]
  },
  {
   "cell_type": "code",
   "execution_count": 361,
   "metadata": {},
   "outputs": [],
   "source": [
    "caption = 'test'"
   ]
  },
  {
   "cell_type": "code",
   "execution_count": 486,
   "metadata": {},
   "outputs": [],
   "source": [
    "data = {\n",
    "    'title':'Test Video',\n",
    "    'description': caption,\n",
    "    'access_token': page_access_token,\n",
    "    'published': publish,\n",
    "    'scheduled_publish_time':timestamp,    \n",
    "}\n",
    "files = {\n",
    "    'file': open(VID_PATH, 'rb')\n",
    "}"
   ]
  },
  {
   "cell_type": "code",
   "execution_count": 487,
   "metadata": {},
   "outputs": [],
   "source": [
    "status = requests.post(\n",
    "    f'https://graph.facebook.com/{page_id}/videos',\n",
    "     data=data, files=files)"
   ]
  },
  {
   "cell_type": "code",
   "execution_count": 489,
   "metadata": {},
   "outputs": [
    {
     "data": {
      "text/plain": [
       "'{\"id\":\"982130368876802\"}'"
      ]
     },
     "execution_count": 489,
     "metadata": {},
     "output_type": "execute_result"
    }
   ],
   "source": [
    "status.text"
   ]
  },
  {
   "cell_type": "markdown",
   "metadata": {},
   "source": [
    "Archive"
   ]
  },
  {
   "cell_type": "code",
   "execution_count": 1,
   "metadata": {},
   "outputs": [],
   "source": [
    "\n",
    "app_id = '276745083548890'\n",
    "app_secret = '16ad5e2b0566d6918666d86061bd5d01'\n",
    "\n",
    "graph = facebook.GraphAPI()\n",
    "\n",
    "# exactly what you're after ;-)\n",
    "access_token = graph.get_app_access_token(app_id, app_secret) "
   ]
  },
  {
   "cell_type": "code",
   "execution_count": null,
   "metadata": {},
   "outputs": [],
   "source": [
    "https://www.facebook.com/dialog/oauth?client_id=276745083548890&redirect_uri=https://www.facebook.com/connect/login_success.html&response_type=token"
   ]
  }
 ],
 "metadata": {
  "kernelspec": {
   "display_name": "Python 3",
   "language": "python",
   "name": "python3"
  },
  "language_info": {
   "codemirror_mode": {
    "name": "ipython",
    "version": 3
   },
   "file_extension": ".py",
   "mimetype": "text/x-python",
   "name": "python",
   "nbconvert_exporter": "python",
   "pygments_lexer": "ipython3",
   "version": "3.7.3"
  }
 },
 "nbformat": 4,
 "nbformat_minor": 2
}
